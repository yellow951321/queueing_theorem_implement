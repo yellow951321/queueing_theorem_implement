{
  "nbformat": 4,
  "nbformat_minor": 0,
  "metadata": {
    "colab": {
      "name": "queueing_threorem.ipynb",
      "provenance": [],
      "collapsed_sections": [],
      "include_colab_link": true
    },
    "kernelspec": {
      "name": "python3",
      "display_name": "Python 3"
    }
  },
  "cells": [
    {
      "cell_type": "markdown",
      "metadata": {
        "id": "view-in-github",
        "colab_type": "text"
      },
      "source": [
        "<a href=\"https://colab.research.google.com/github/yellow951321/queueing_theorem_implement/blob/master/queueing_threorem.ipynb\" target=\"_parent\"><img src=\"https://colab.research.google.com/assets/colab-badge.svg\" alt=\"Open In Colab\"/></a>"
      ]
    },
    {
      "cell_type": "code",
      "metadata": {
        "id": "bLXqnhDMAEmE",
        "colab_type": "code",
        "colab": {}
      },
      "source": [
        "import math"
      ],
      "execution_count": 0,
      "outputs": []
    },
    {
      "cell_type": "markdown",
      "metadata": {
        "id": "5E7cyW2c9wQo",
        "colab_type": "text"
      },
      "source": [
        "(M/M/1):(FCFS/N/INF) system"
      ]
    },
    {
      "cell_type": "code",
      "metadata": {
        "id": "Xy-hd5CR8nxR",
        "colab_type": "code",
        "colab": {}
      },
      "source": [
        "# compute queuing theorem with arrival rate and service rate in minute\n",
        "def compute_queuing_theorem(server_num, system_capacity, arrival_rate, service_rate, endurable_people):\n",
        "  # coefficient for P_n with reference to P_0\n",
        "  C_n = [0 for _ in range(system_capacity + 1)]\n",
        "  # compute Cn\n",
        "  for people in range(system_capacity + 1):\n",
        "    # for 0 <= people_in_system <= system_capacity\n",
        "    if people <= server_num:\n",
        "      C_n[people] = (arrival_rate/service_rate)**people / math.factorial(people)\n",
        "    else:\n",
        "      C_n[people] = (arrival_rate/service_rate)**people / (math.factorial(server_num) * server_num**(people - server_num))\n",
        "  # compute P_0\n",
        "  P_0 = 1 / sum(C_n)\n",
        "  # compute expected Length of queue\n",
        "  length_of_queue = 0\n",
        "  for people in range(system_capacity - server_num + 1):\n",
        "    length_of_queue += people * C_n[people + server_num] * P_0\n",
        "  # compute expected waiting time in queue, expected waiting time in system, and expected people in system\n",
        "  waiting_time_queue = length_of_queue / arrival_rate\n",
        "  waiting_time_system = waiting_time_queue + 1 / service_rate\n",
        "  people_in_system = length_of_queue + arrival_rate / service_rate\n",
        "\n",
        "  # compute unendurable probability\n",
        "  unendurable_probability = 0\n",
        "  for people in range(endurable_people + 1, system_capacity + 1):\n",
        "    unendurable_probability += C_n[people] * P_0\n",
        "\n",
        "  #print output\n",
        "  print(f\"\\texpected length of queue: {length_of_queue} people.\")\n",
        "  print(f\"\\texpected waiting time in queue: {waiting_time_queue} minute.\")\n",
        "  print(f\"\\texpected waiting time in system: {waiting_time_system} minute.\")\n",
        "  print(f\"\\texpected people in system: {people_in_system} people.\")\n",
        "  print(f\"\\tprobapility of more than {endurable_people}: {unendurable_probability}\")"
      ],
      "execution_count": 0,
      "outputs": []
    },
    {
      "cell_type": "code",
      "metadata": {
        "id": "T55kpG9F-9fn",
        "colab_type": "code",
        "colab": {
          "base_uri": "https://localhost:8080/",
          "height": 121
        },
        "outputId": "e2b14206-b1bd-4adc-d086-9af4a33945b5"
      },
      "source": [
        "# we assume McDonald's has three server with max capacity of thirty people\n",
        "# with arrival rate 1.6 people / minute and service rate 0.8 people per minute\n",
        "print(\"for McDonald's\")\n",
        "compute_queuing_theorem(3, 30, 1.6, 0.8, 5)"
      ],
      "execution_count": 64,
      "outputs": [
        {
          "output_type": "stream",
          "text": [
            "for McDonald's\n",
            "\texpected length of queue: 0.8887370708856629 people.\n",
            "\texpected waiting time in queue: 0.5554606693035393 minute.\n",
            "\texpected waiting time in system: 1.8054606693035393 minute.\n",
            "\texpected people in system: 2.888737070885663 people.\n",
            "\tprobapility of more than 5: 0.13168271444117535\n"
          ],
          "name": "stdout"
        }
      ]
    },
    {
      "cell_type": "code",
      "metadata": {
        "id": "pugyAfrPAO6j",
        "colab_type": "code",
        "colab": {
          "base_uri": "https://localhost:8080/",
          "height": 121
        },
        "outputId": "2c3a0c01-ce78-48c5-cfde-3de79201d3a0"
      },
      "source": [
        "# we assume subway has three server with max capacity of thirty people\n",
        "# with arrival rate 0.325 people / minute and service rate 0.3333 people / minute\n",
        "print(\"for subway\")\n",
        "compute_queuing_theorem(3, 30, 0.325, 0.33333, 3)"
      ],
      "execution_count": 66,
      "outputs": [
        {
          "output_type": "stream",
          "text": [
            "for subway\n",
            "\texpected length of queue: 0.041129726518869036 people.\n",
            "\texpected waiting time in queue: 0.1265530046734432 minute.\n",
            "\texpected waiting time in system: 3.126583004973446 minute.\n",
            "\texpected people in system: 1.01613947661637 people.\n",
            "\tprobapility of more than 3: 0.027762431727322175\n"
          ],
          "name": "stdout"
        }
      ]
    },
    {
      "cell_type": "code",
      "metadata": {
        "id": "1rYHGM5WLlai",
        "colab_type": "code",
        "colab": {}
      },
      "source": [
        ""
      ],
      "execution_count": 0,
      "outputs": []
    }
  ]
}