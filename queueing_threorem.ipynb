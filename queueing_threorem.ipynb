{
  "nbformat": 4,
  "nbformat_minor": 0,
  "metadata": {
    "colab": {
      "name": "queueing_threorem.ipynb",
      "provenance": [],
      "collapsed_sections": [],
      "include_colab_link": true
    },
    "kernelspec": {
      "name": "python3",
      "display_name": "Python 3"
    }
  },
  "cells": [
    {
      "cell_type": "markdown",
      "metadata": {
        "id": "view-in-github",
        "colab_type": "text"
      },
      "source": [
        "<a href=\"https://colab.research.google.com/github/yellow951321/queueing_theorem_implement/blob/master/queueing_threorem.ipynb\" target=\"_parent\"><img src=\"https://colab.research.google.com/assets/colab-badge.svg\" alt=\"Open In Colab\"/></a>"
      ]
    },
    {
      "cell_type": "code",
      "metadata": {
        "id": "bLXqnhDMAEmE",
        "colab_type": "code",
        "colab": {}
      },
      "source": [
        "import math"
      ],
      "execution_count": 0,
      "outputs": []
    },
    {
      "cell_type": "markdown",
      "metadata": {
        "id": "5E7cyW2c9wQo",
        "colab_type": "text"
      },
      "source": [
        "(M/M/1):(FCFS/N/INF) system"
      ]
    },
    {
      "cell_type": "code",
      "metadata": {
        "id": "Xy-hd5CR8nxR",
        "colab_type": "code",
        "colab": {}
      },
      "source": [
        "# compute queuing theorem with arrival rate and service rate in minute\n",
        "def compute_queuing_theorem(server_num, system_capacity, arrival_rate, service_rate, endurable_people, meal_per_people):\n",
        "  # coefficient for P_n with reference to P_0\n",
        "  C_n = [0 for _ in range(system_capacity + 1)]\n",
        "  # compute Cn\n",
        "  for people in range(system_capacity + 1):\n",
        "    # for 0 <= people_in_system <= system_capacity\n",
        "    if people <= server_num:\n",
        "      C_n[people] = (arrival_rate/service_rate)**people / math.factorial(people)\n",
        "    else:\n",
        "      C_n[people] = (arrival_rate/service_rate)**people / (math.factorial(server_num) * server_num**(people - server_num))\n",
        "  \n",
        "  # compute P_0\n",
        "  P_0 = 1 / sum(C_n)\n",
        "  # compute expected Length of queue\n",
        "  length_of_queue = 0\n",
        "  for people in range(system_capacity - server_num + 1):\n",
        "    length_of_queue += people * C_n[people + server_num] * P_0\n",
        "  # compute expected waiting time in queue, expected waiting time in system, and expected people in system\n",
        "  waiting_time_queue = length_of_queue / arrival_rate\n",
        "  waiting_time_system = waiting_time_queue + 1 / service_rate\n",
        "  people_in_system = length_of_queue + arrival_rate / service_rate\n",
        "\n",
        "  # compute unendurable probability\n",
        "  unendurable_probability = 0\n",
        "  for people in range(endurable_people * meal_per_people + 1, system_capacity + 1):\n",
        "    unendurable_probability += C_n[people] * P_0\n",
        "\n",
        "  #print output\n",
        "  print(f\"\\texpected length of queue: {length_of_queue / meal_per_people} people.\")\n",
        "  print(f\"\\texpected waiting time in queue: {waiting_time_queue / meal_per_people} minute.\")\n",
        "  print(f\"\\texpected waiting time in system: {waiting_time_system * meal_per_people} minute.\")\n",
        "  print(f\"\\texpected people in system: {people_in_system / meal_per_people} people.\")\n",
        "  print(f\"\\tprobapility of more than {endurable_people} people: {unendurable_probability}\")"
      ],
      "execution_count": 0,
      "outputs": []
    },
    {
      "cell_type": "code",
      "metadata": {
        "id": "T55kpG9F-9fn",
        "colab_type": "code",
        "outputId": "5417f51e-46b0-4a05-f44d-21fd0e6a607f",
        "colab": {
          "base_uri": "https://localhost:8080/",
          "height": 121
        }
      },
      "source": [
        "# we assume McDonald's has 2 server with max capacity of thirty people\n",
        "# with arrival rate 1.6 * 2 meal / minute and service rate 0.8 * 2 meal / minute\n",
        "print(\"for McDonald's\")\n",
        "compute_queuing_theorem(2, 30, 1.59 * 2, 0.8080808 * 2, 5, 2)"
      ],
      "execution_count": 58,
      "outputs": [
        {
          "output_type": "stream",
          "text": [
            "for McDonald's\n",
            "\texpected length of queue: 6.033795259638275 people.\n",
            "\texpected waiting time in queue: 1.8974198929680108 minute.\n",
            "\texpected waiting time in system: 8.827179584247043 minute.\n",
            "\texpected people in system: 7.0176077694764 people.\n",
            "\tprobapility of more than 5 people: 0.5983220326623221\n"
          ],
          "name": "stdout"
        }
      ]
    },
    {
      "cell_type": "code",
      "metadata": {
        "id": "pugyAfrPAO6j",
        "colab_type": "code",
        "outputId": "96d23da5-b75e-401e-82dd-3525bc95ac89",
        "colab": {
          "base_uri": "https://localhost:8080/",
          "height": 121
        }
      },
      "source": [
        "# we assume subway has 1 server with max capacity of thirty people\n",
        "# with arrival rate 0.325 people / minute and service rate 1 people / minute\n",
        "print(\"for subway\")\n",
        "compute_queuing_theorem(1, 30, 0.4333, 0.333 * 2, 5, 1)"
      ],
      "execution_count": 63,
      "outputs": [
        {
          "output_type": "stream",
          "text": [
            "for subway\n",
            "\texpected length of queue: 1.2114035212711178 people.\n",
            "\texpected waiting time in queue: 2.795761646136898 minute.\n",
            "\texpected waiting time in system: 4.297263147638399 minute.\n",
            "\texpected people in system: 1.8620041218717183 people.\n",
            "\tprobapility of more than 5 people: 0.07583647209555991\n"
          ],
          "name": "stdout"
        }
      ]
    },
    {
      "cell_type": "code",
      "metadata": {
        "id": "8sg-Qv8cQy17",
        "colab_type": "code",
        "colab": {
          "base_uri": "https://localhost:8080/",
          "height": 121
        },
        "outputId": "aa517c43-d198-4ae7-e875-359b43468b76"
      },
      "source": [
        "# we assume KFC has 1 server with max capacity of thirty people\n",
        "# with arrival rate 0.7667 meal / minute and service rate 0.96370061034 meal / minute\n",
        "print(\"for KFC\")\n",
        "compute_queuing_theorem(1, 30, 0.7667, 0.96370061034, 5, 1)"
      ],
      "execution_count": 64,
      "outputs": [
        {
          "output_type": "stream",
          "text": [
            "for KFC\n",
            "\texpected length of queue: 3.070581114489542 people.\n",
            "\texpected waiting time in queue: 4.004931674044009 minute.\n",
            "\texpected waiting time in system: 5.042598340714681 minute.\n",
            "\texpected people in system: 3.8661601478259464 people.\n",
            "\tprobapility of more than 5 people: 0.25294816301403306\n"
          ],
          "name": "stdout"
        }
      ]
    }
  ]
}